{
 "cells": [
  {
   "cell_type": "code",
   "execution_count": 1,
   "id": "578dfd66",
   "metadata": {},
   "outputs": [
    {
     "name": "stderr",
     "output_type": "stream",
     "text": [
      "d:\\Projects\\nlp_query\\.venv\\Lib\\site-packages\\tqdm\\auto.py:21: TqdmWarning: IProgress not found. Please update jupyter and ipywidgets. See https://ipywidgets.readthedocs.io/en/stable/user_install.html\n",
      "  from .autonotebook import tqdm as notebook_tqdm\n"
     ]
    }
   ],
   "source": [
    "import pandas as pd\n",
    "import gradio as gr\n",
    "import torch\n",
    "import accelerate\n",
    "from transformers import AutoTokenizer, AutoModelForCausalLM\n",
    "import os \n",
    "from mistralai import Mistral\n",
    "import numpy as np\n",
    "from sklearn.metrics.pairwise import cosine_similarity\n",
    "from vectordb import VectorDB\n",
    "import faiss\n",
    "import weaviate\n",
    "from weaviatedb import WeaviateDB"
   ]
  },
  {
   "cell_type": "code",
   "execution_count": 2,
   "id": "9a7b783a",
   "metadata": {},
   "outputs": [],
   "source": [
    "weaviate_client = weaviate.Client(url=\"http://localhost:8080\")"
   ]
  },
  {
   "cell_type": "code",
   "execution_count": 3,
   "id": "7d759365",
   "metadata": {},
   "outputs": [],
   "source": [
    "from config import API_KEY"
   ]
  },
  {
   "cell_type": "code",
   "execution_count": 4,
   "id": "11031bec",
   "metadata": {},
   "outputs": [],
   "source": [
    "USE_MISTRAL = True"
   ]
  },
  {
   "cell_type": "code",
   "execution_count": 5,
   "id": "ae1be96b",
   "metadata": {},
   "outputs": [],
   "source": [
    "mistral_client = Mistral(api_key=API_KEY)\n"
   ]
  },
  {
   "cell_type": "code",
   "execution_count": 6,
   "id": "d9db4cfe",
   "metadata": {},
   "outputs": [],
   "source": [
    "file_path = \"document_metadata.csv\"\n",
    "\n",
    "df = pd.read_csv(file_path)"
   ]
  },
  {
   "cell_type": "code",
   "execution_count": 7,
   "id": "8e66d237",
   "metadata": {},
   "outputs": [],
   "source": [
    "import json\n",
    "\n",
    "USE_MISTRAL = True \n",
    "\n",
    "\n",
    "def query_to_filters(query: str, max_new_tokens: int = 150):\n",
    "    \"\"\"\n",
    "    Convert English or Arabic query about contracts into a structured filter dict:\n",
    "    { company, amount_min, amount_max, year_min, year_max, keywords }\n",
    "    \"\"\"\n",
    "\n",
    "    prompt = f\"\"\"\n",
    "Convert this query about documents into a JSON object with keys:\n",
    "author, category, year_min, year_max, tags, keywords.\n",
    "Use null if not specified. Respond ONLY with valid JSON.\n",
    "- The 'keywords' field should always be in English (the language of the CSV),\n",
    "even if the input query is in Arabic.\n",
    "- If multiple tags are mentioned, return them as a list.\n",
    "- If a date range is mentioned, fill year_min and year_max.\n",
    "- If only a single year is mentioned, set both year_min and year_max to that year.\n",
    "- If a field is not mentioned, set it to null.\n",
    "\n",
    "English examples:\n",
    "\"Reports by John Smith\" => {{\"author\":\"John Smith\",\"category\":\"Report\",\"year_min\":null,\"year_max\":null,\"tags\":null,\"keywords\":null}}\n",
    "\"Documents about financial performance in 2023\" => {{\"author\":null,\"category\":null,\"year_min\":2023,\"year_max\":2023,\"tags\":null,\"keywords\":\"financial performance\"}}\n",
    "\"Policies by HR with tag onboarding between 2021 and 2022\" => {{\"author\":\"HR\",\"category\":\"Policy\",\"year_min\":2021,\"year_max\":2022,\"tags\":[\"onboarding\"],\"keywords\":null}}\n",
    "\"Documents tagged marketing and sales in 2023\" => {{\"author\":null,\"category\":null,\"year_min\":2023,\"year_max\":2023,\"tags\":[\"marketing\",\"sales\"],\"keywords\":null}}\n",
    "\n",
    "Arabic examples:\n",
    "\"تقارير من جون سميث\" => {{\"author\":\"John Smith\",\"category\":\"Report\",\"year_min\":null,\"year_max\":null,\"tags\":null,\"keywords\":null}}\n",
    "\"مستندات عن الأداء المالي في ٢٠٢٣\" => {{\"author\":null,\"category\":null,\"year_min\":2023,\"year_max\":2023,\"tags\":null,\"keywords\":\"financial performance\"}}\n",
    "\"سياسات من قسم الموارد البشرية مع علامات onboarding بين 2021 و 2022\" => {{\"author\":\"HR\",\"category\":\"Policy\",\"year_min\":2021,\"year_max\":2022,\"tags\":[\"onboarding\"],\"keywords\":null}}\n",
    "\"مستندات عن التسويق والمبيعات في 2023\" => {{\"author\":null,\"category\":null,\"year_min\":2023,\"year_max\":2023,\"tags\":[\"marketing\",\"sales\"],\"keywords\":null}}\n",
    "\n",
    "Query: \"{query}\"\n",
    "JSON:\n",
    "\"\"\"\n",
    "\n",
    "\n",
    "    if USE_MISTRAL:\n",
    "        response = mistral_client.chat.complete(\n",
    "            model=\"ministral-3b-latest\",  \n",
    "            messages=[{\"role\": \"user\", \"content\": prompt}],\n",
    "            temperature=0,\n",
    "        )\n",
    "        raw_output = response.choices[0].message.content\n",
    "\n",
    "    try:\n",
    "        start = raw_output.find(\"{\")\n",
    "        end = raw_output.rfind(\"}\") + 1\n",
    "        json_str = raw_output[start:end]\n",
    "        filters = json.loads(json_str)\n",
    "        \n",
    "        for key in [ \"document_id\",\"title\",\"author\",\"created_date\",\"last_modified\",\"category\",\"tags\",\"content\"]:\n",
    "            if key not in filters:\n",
    "                filters[key] = None\n",
    "\n",
    "    except Exception as e:\n",
    "        print(\"!!! Fallback triggered: returning empty filters\")\n",
    "        print(\"Raw model response:\", raw_output)\n",
    "        filters = {\n",
    "            \"author\": None,\n",
    "            \"category\": None,\n",
    "            \"year_min\": None,\n",
    "            \"year_max\": None,\n",
    "            \"tags\": None,\n",
    "            \"keywords\": None\n",
    "        }\n",
    "\n",
    "    return filters\n"
   ]
  },
  {
   "cell_type": "code",
   "execution_count": 8,
   "id": "3184def3",
   "metadata": {},
   "outputs": [],
   "source": [
    "import arabic_reshaper\n",
    "from bidi.algorithm import get_display\n",
    "import re\n",
    "\n",
    "def normalize_arabic(text):\n",
    "    if not isinstance(text, str):\n",
    "        return \"\"\n",
    "    text = text.replace(\"أ\", \"ا\").replace(\"إ\", \"ا\").replace(\"آ\", \"ا\").replace(\"ى\", \"ي\").strip()\n",
    "    reshaped_text = arabic_reshaper.reshape(text)\n",
    "    bidi_text = get_display(reshaped_text)\n",
    "    return bidi_text\n"
   ]
  },
  {
   "cell_type": "code",
   "execution_count": 9,
   "id": "f814f432",
   "metadata": {},
   "outputs": [],
   "source": [
    "from sentence_transformers import SentenceTransformer\n",
    "\n",
    "model = SentenceTransformer('msmarco-MiniLM-L6-cos-v5')\n",
    "model.save('models/msmarco-MiniLM-L6-cos-v5')"
   ]
  },
  {
   "cell_type": "code",
   "execution_count": 10,
   "id": "d7207849",
   "metadata": {},
   "outputs": [],
   "source": [
    "db = WeaviateDB(client=weaviate_client, model=model)"
   ]
  },
  {
   "cell_type": "code",
   "execution_count": 11,
   "id": "e512687f",
   "metadata": {},
   "outputs": [],
   "source": [
    "# def compute_embeddings(df, embed_client):\n",
    "#     embeddings = []\n",
    "#     for i, row in df.iterrows():\n",
    "#         text = f\"{row['title']} {row['tags']} {row['content']}\"\n",
    "#         response = embed_client.embeddings.create(\n",
    "#             model=\"mistral-embed\",\n",
    "#             inputs=[text]\n",
    "#         )\n",
    "#         embeddings.append(response.data[0].embedding)\n",
    "#     df[\"embedding\"] = embeddings\n",
    "#     return df\n"
   ]
  },
  {
   "cell_type": "code",
   "execution_count": 12,
   "id": "5dabfe83",
   "metadata": {},
   "outputs": [],
   "source": [
    "def compute_embeddings(df, model):\n",
    "    embeddings = []\n",
    "    for i, row in df.iterrows():\n",
    "        text = f\"{row['title']} {row['tags']} {row['content']}\"\n",
    "        emb = model.encode(text, convert_to_numpy=True)\n",
    "        emb_list = [float(x) for x in emb]\n",
    "        embeddings.append(emb_list)\n",
    "    \n",
    "    df[\"embedding\"] = embeddings\n",
    "    return df\n"
   ]
  },
  {
   "cell_type": "code",
   "execution_count": 13,
   "id": "ded839d7",
   "metadata": {},
   "outputs": [],
   "source": [
    "df = db.compute_embeddings(df)"
   ]
  },
  {
   "cell_type": "code",
   "execution_count": 14,
   "id": "3b36ee67",
   "metadata": {},
   "outputs": [],
   "source": [
    "db.insert_documents(df)"
   ]
  },
  {
   "cell_type": "code",
   "execution_count": 15,
   "id": "1ae4beeb",
   "metadata": {},
   "outputs": [
    {
     "name": "stdout",
     "output_type": "stream",
     "text": [
      "[{'document_id': 'DOC001', 'title': 'Annual Financial Report 2023', 'author': 'John Smith', 'created_date': '2023-01-15', 'last_modified': '2023-02-10', 'category': 'Report', 'tags': 'finance, annual, 2023', 'content': \"This report provides a comprehensive overview of the company's financial performance during the fiscal year 2023. It includes audited balance sheets, income statements, and detailed cash flow analysis. Key highlights include a 12% revenue increase compared to 2022 and cost optimization strategies that improved net margins. The report also discusses challenges faced due to supply chain disruptions and outlines future growth projections.\", 'distance': 0.22596896}, {'document_id': 'DOC016', 'title': 'Quarterly Financial Summary Q1 2024', 'author': 'Finance Dept.', 'created_date': '2024-01-20', 'last_modified': '2024-01-25', 'category': 'Report', 'tags': 'finance, quarterly, 2024', 'content': \"This report provides a detailed overview of the company's financial performance for Q1 2024. Key highlights include revenue growth of 8%, a reduction in operational costs by 5%, and projections for Q2 2024. The report also covers market trends and competitor analysis.\", 'distance': 0.37901425}, {'document_id': 'DOC037', 'title': 'Sustainability Initiatives Report 2024', 'author': 'Environmental Dept.', 'created_date': '2024-02-01', 'last_modified': '2024-02-15', 'category': 'Report', 'tags': 'sustainability, environment, 2024', 'content': 'This report documents sustainability initiatives undertaken in 2024. Highlights include energy savings, waste reduction, and carbon footprint analysis. Future goals for 2025 are outlined.', 'distance': 0.52111506}, {'document_id': 'DOC067', 'title': 'Sustainability Initiative Report 2024', 'author': 'Environmental Dept.', 'created_date': '2024-02-01', 'last_modified': '2024-02-10', 'category': 'Report', 'tags': 'sustainability, initiatives, 2024', 'content': 'Report summarizing sustainability initiatives in 2024, including renewable energy adoption, waste reduction, and environmental compliance. Recommendations for future initiatives are included.', 'distance': 0.52582735}, {'document_id': 'DOC012', 'title': 'Sustainability Report 2022', 'author': 'Environmental Dept.', 'created_date': '2022-10-05', 'last_modified': '2022-12-15', 'category': 'Report', 'tags': 'sustainability, environment, 2022', 'content': 'The sustainability report documents initiatives aimed at reducing the company’s carbon footprint. Highlights include a 20% reduction in energy consumption due to solar panel installations and an 18% reduction in paper usage through digitalization. The report also showcases community outreach programs supporting reforestation efforts. A roadmap for achieving net-zero emissions by 2035 is provided, with interim targets for 2025 and 2030.', 'distance': 0.53410447}]\n"
     ]
    }
   ],
   "source": [
    "res = db.query(\"financial report 2023\", top_k=5)\n",
    "print(res)"
   ]
  },
  {
   "cell_type": "code",
   "execution_count": 16,
   "id": "408eb6fe",
   "metadata": {},
   "outputs": [],
   "source": [
    "# def semantic_search(query, embed_client, df, index, top_k=5):\n",
    "#     response = embed_client.embeddings.create(\n",
    "#         model=\"mistral-embed\",\n",
    "#         inputs=[query]\n",
    "#     )\n",
    "#     query_vec = np.array(response.data[0].embedding).astype(\"float32\").reshape(1, -1)\n",
    "\n",
    "#     distances, indices = index.search(query_vec, top_k)\n",
    "\n",
    "#     sims = 1 / (1 + distances[0])\n",
    "\n",
    "#     results = df.iloc[indices[0]].copy()\n",
    "#     results[\"similarity\"] = sims\n",
    "    \n",
    "#     return results[[\"title\", \"author\", \"category\", \"tags\", \"similarity\"]]\n"
   ]
  },
  {
   "cell_type": "code",
   "execution_count": 17,
   "id": "2242b29c",
   "metadata": {},
   "outputs": [],
   "source": [
    "# def semantic_search_faiss(query, vdb, top_k=5):\n",
    "#     query_vec = model.encode([query], convert_to_numpy=True).astype(\"float32\")\n",
    "#     results = vdb.search(query_vec, top_k=top_k)\n",
    "#     return results[[\"title\", \"author\", \"category\", \"tags\", \"similarity\"]]"
   ]
  },
  {
   "cell_type": "code",
   "execution_count": 18,
   "id": "6079ed89",
   "metadata": {},
   "outputs": [],
   "source": [
    "def search_csv(query):\n",
    "    filters = query_to_filters(query)\n",
    "    print(\"Structured query:\", filters)\n",
    "\n",
    "    results = df.copy()\n",
    "\n",
    "    if filters.get(\"author\"):\n",
    "        results = results[results[\"author\"].str.contains(filters[\"author\"], case=False, na=False)]\n",
    "    if filters.get(\"category\"):\n",
    "        results = results[results[\"category\"].str.contains(filters[\"category\"], case=False, na=False)]\n",
    "    if filters.get(\"year_min\"):\n",
    "        results = results[pd.to_datetime(results[\"created_date\"]).dt.year >= filters[\"year_min\"]]\n",
    "    if filters.get(\"year_max\"):\n",
    "        results = results[pd.to_datetime(results[\"created_date\"]).dt.year <= filters[\"year_max\"]]\n",
    "    if filters.get(\"tags\"):\n",
    "        tag_pattern = \"|\".join(filters[\"tags\"])\n",
    "        results = results[results[\"tags\"].str.contains(tag_pattern, case=False, na=False)]\n",
    "    if filters.get(\"keywords\"):\n",
    "        keyword_text = filters[\"keywords\"].strip()\n",
    "        if keyword_text:\n",
    "            words = re.split(r\"\\s+\", keyword_text)\n",
    "            words_normalized = [normalize_arabic(w) for w in words]\n",
    "\n",
    "            results[\"content_normalized\"] = results[\"content\"].apply(normalize_arabic)\n",
    "\n",
    "            pattern = \"|\".join(re.escape(w) for w in words_normalized)\n",
    "            results = results[results[\"content_normalized\"].str.contains(pattern, case=False, regex=True)]\n",
    "\n",
    "\n",
    "    return results\n"
   ]
  },
  {
   "cell_type": "code",
   "execution_count": 19,
   "id": "b7d22711",
   "metadata": {},
   "outputs": [],
   "source": [
    "# def semantic_search_gradio(query):\n",
    "#     return semantic_search_faiss(query, vdb=vdb, top_k=5)"
   ]
  },
  {
   "cell_type": "code",
   "execution_count": 20,
   "id": "9a1bd3c9",
   "metadata": {},
   "outputs": [
    {
     "name": "stdout",
     "output_type": "stream",
     "text": [
      "{'errors': [{'locations': [{'column': 8566, 'line': 1}], 'message': 'Field \"distance\" of type \"Float\" must not have a sub selection.', 'path': None}]}\n"
     ]
    }
   ],
   "source": [
    "query_text = df.iloc[0]['title']  # or first document content\n",
    "result = db.vector_search(query_text, top_k=5, metric=\"cosine\")\n",
    "print(result)\n"
   ]
  },
  {
   "cell_type": "code",
   "execution_count": null,
   "id": "e282d37b",
   "metadata": {},
   "outputs": [],
   "source": [
    "def search_with_filters(user_query, metric=\"cosine\", top_k=5):\n",
    "    filters = query_to_filters(user_query)\n",
    "    where_filter = {\"operator\": \"And\", \"operands\": []}\n",
    "    \n",
    "    if filters[\"author\"]:\n",
    "        where_filter[\"operands\"].append({\n",
    "            \"path\": [\"author\"],\n",
    "            \"operator\": \"Equal\",\n",
    "            \"valueString\": filters[\"author\"]\n",
    "        })\n",
    "    if filters[\"category\"]:\n",
    "        where_filter[\"operands\"].append({\n",
    "            \"path\": [\"category\"],\n",
    "            \"operator\": \"Equal\",\n",
    "            \"valueString\": filters[\"category\"]\n",
    "        })\n",
    "    if filters[\"year_min\"]:\n",
    "        where_filter[\"operands\"].append({\n",
    "            \"path\": [\"created_date\"],\n",
    "            \"operator\": \"GreaterThanEqual\",\n",
    "            \"valueInt\": filters[\"year_min\"]\n",
    "        })\n",
    "    if filters[\"year_max\"]:\n",
    "        where_filter[\"operands\"].append({\n",
    "            \"path\": [\"created_date\"],\n",
    "            \"operator\": \"LessThanEqual\",\n",
    "            \"valueInt\": filters[\"year_max\"]\n",
    "        })\n",
    "    if filters[\"tags\"]:\n",
    "        for tag in filters[\"tags\"]:\n",
    "            where_filter[\"operands\"].append({\n",
    "                \"path\": [\"tags\"],\n",
    "                \"operator\": \"Equal\",\n",
    "                \"valueString\": tag\n",
    "            })\n",
    "    \n",
    "    if len(where_filter[\"operands\"]) == 0:\n",
    "        where_filter = None\n",
    "\n",
    "    results = db.query(user_query, top_k=top_k, metric=metric, where_filter=where_filter)\n",
    "    \n",
    "    return results\n"
   ]
  },
  {
   "cell_type": "code",
   "execution_count": 22,
   "id": "902e9868",
   "metadata": {},
   "outputs": [
    {
     "data": {
      "text/plain": [
       "{'data': {'Get': {'Document': [{'document_id': 'DOC003',\n",
       "     'title': 'AI Research Proposal'},\n",
       "    {'document_id': 'DOC039', 'title': 'Procurement Contract - Beta Supplies'},\n",
       "    {'document_id': 'DOC063', 'title': 'Server Security Upgrade Report'},\n",
       "    {'document_id': 'DOC001', 'title': 'Annual Financial Report 2023'},\n",
       "    {'document_id': 'DOC006', 'title': 'Software License Agreement'}]}}}"
      ]
     },
     "execution_count": 22,
     "metadata": {},
     "output_type": "execute_result"
    }
   ],
   "source": [
    "weaviate_client.query.get(\"Document\", [\"document_id\", \"title\"]).with_limit(5).do()\n"
   ]
  },
  {
   "cell_type": "code",
   "execution_count": null,
   "id": "439d0f89",
   "metadata": {},
   "outputs": [],
   "source": [
    "def gradio_search(query, metric, top_k):\n",
    "    result = db.query(query, metric=metric, top_k=top_k)\n",
    "    \n",
    "    if not result:\n",
    "        return []\n",
    "\n",
    "    rows = []\n",
    "    for d in result:\n",
    "        rows.append([\n",
    "            d.get(\"document_id\"),\n",
    "            d.get(\"title\"),\n",
    "            d.get(\"author\"),\n",
    "            d.get(\"created_date\"),\n",
    "            d.get(\"category\"),\n",
    "            d.get(\"tags\"),\n",
    "            d.get(\"content\")\n",
    "        ])\n",
    "    return rows\n"
   ]
  },
  {
   "cell_type": "code",
   "execution_count": 28,
   "id": "0335c1d5",
   "metadata": {},
   "outputs": [
    {
     "name": "stderr",
     "output_type": "stream",
     "text": [
      "d:\\Projects\\nlp_query\\.venv\\Lib\\site-packages\\uvicorn\\protocols\\websockets\\websockets_impl.py:17: DeprecationWarning: websockets.server.WebSocketServerProtocol is deprecated\n",
      "  from websockets.server import WebSocketServerProtocol\n"
     ]
    },
    {
     "name": "stdout",
     "output_type": "stream",
     "text": [
      "* Running on local URL:  http://127.0.0.1:7860\n",
      "* To create a public link, set `share=True` in `launch()`.\n"
     ]
    },
    {
     "data": {
      "text/html": [
       "<div><iframe src=\"http://127.0.0.1:7860/\" width=\"100%\" height=\"500\" allow=\"autoplay; camera; microphone; clipboard-read; clipboard-write;\" frameborder=\"0\" allowfullscreen></iframe></div>"
      ],
      "text/plain": [
       "<IPython.core.display.HTML object>"
      ]
     },
     "metadata": {},
     "output_type": "display_data"
    },
    {
     "data": {
      "text/plain": []
     },
     "execution_count": 28,
     "metadata": {},
     "output_type": "execute_result"
    }
   ],
   "source": [
    "with gr.Blocks() as iface:\n",
    "    gr.Markdown(\"## Weaviate Document Search\")\n",
    "    \n",
    "    with gr.Row():\n",
    "        query_input = gr.Textbox(label=\"Enter your query (English or Arabic)\", lines=2, placeholder=\"Search documents...\")\n",
    "        metric_input = gr.Dropdown([\"cosine\", \"dot\", \"euclidean\"], value=\"cosine\", label=\"Vector similarity metric\")\n",
    "        top_k_input = gr.Slider(minimum=1, maximum=20, value=5, step=1, label=\"Number of results\")\n",
    "    \n",
    "    search_button = gr.Button(\"Search\")\n",
    "    results_table = gr.DataFrame(headers=[\"ID\", \"Title\", \"Author\", \"Date\", \"Category\", \"Tags\", \"Content\"])\n",
    "    \n",
    "    search_button.click(\n",
    "        gradio_search,\n",
    "        inputs=[query_input, metric_input, top_k_input],\n",
    "        outputs=[results_table]\n",
    "    )\n",
    "\n",
    "iface.launch()\n"
   ]
  }
 ],
 "metadata": {
  "kernelspec": {
   "display_name": ".venv (3.11.5)",
   "language": "python",
   "name": "python3"
  },
  "language_info": {
   "codemirror_mode": {
    "name": "ipython",
    "version": 3
   },
   "file_extension": ".py",
   "mimetype": "text/x-python",
   "name": "python",
   "nbconvert_exporter": "python",
   "pygments_lexer": "ipython3",
   "version": "3.11.5"
  }
 },
 "nbformat": 4,
 "nbformat_minor": 5
}
